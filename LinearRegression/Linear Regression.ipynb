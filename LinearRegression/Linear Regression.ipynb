{
 "cells": [
  {
   "cell_type": "code",
   "execution_count": 1,
   "id": "9d8a8723-24ca-492f-8270-4473096fd9e5",
   "metadata": {},
   "outputs": [],
   "source": [
    "import numpy as np\n",
    "import pandas as pd\n",
    "import matplotlib.pyplot as plt"
   ]
  },
  {
   "cell_type": "code",
   "execution_count": 2,
   "id": "e9bc6be3-87e4-493a-8b2b-b5c757fe8266",
   "metadata": {},
   "outputs": [],
   "source": [
    "def function(w,b,x):\n",
    "  return (w*x + b)"
   ]
  },
  {
   "cell_type": "code",
   "execution_count": 3,
   "id": "df8e0bc7-ba4a-418c-a478-c1f20ed465ff",
   "metadata": {},
   "outputs": [],
   "source": [
    "def cost(x,y,w,b):\n",
    "\n",
    "  total_cost = 0\n",
    "\n",
    "  quant = x.shape[0]\n",
    "\n",
    "  for i in range(quant):\n",
    "\n",
    "    y_f = function(w,b,x[i])\n",
    "    y_diff = (y_f - y[i])\n",
    "    total_cost += y_diff**2\n",
    "    \n",
    "\n",
    "  total_cost = total_cost/(2*quant)\n",
    "\n",
    "  return total_cost"
   ]
  },
  {
   "cell_type": "code",
   "execution_count": 4,
   "id": "2eea8698-fccc-4e1a-a160-d8c05b1e5e78",
   "metadata": {},
   "outputs": [],
   "source": [
    "def partial_derivative_w(x,y,w,b):\n",
    "\n",
    "    derivative = (function(w,b,x) - y) * x\n",
    "\n",
    "    return derivative\n",
    "\n",
    "def partial_derivative_b(x,y,w,b):\n",
    "\n",
    "    derivative = (function(w,b,x) - y)\n",
    "\n",
    "    return derivative"
   ]
  },
  {
   "cell_type": "code",
   "execution_count": 5,
   "id": "e56a3807-f0da-4a27-a4fa-c6f23326b8af",
   "metadata": {},
   "outputs": [],
   "source": [
    "def find_derivatives(x,y,w,b):\n",
    "\n",
    "  derivative_w = 0\n",
    "  derivative_b = 0\n",
    "\n",
    "  quant = x.shape[0]\n",
    "\n",
    "  for j in range(quant):\n",
    "\n",
    "    derivative_w += partial_derivative_w(x[j],y[j],w,b)\n",
    "    derivative_b += partial_derivative_b(x[j],y[j],w,b)\n",
    "\n",
    "  derivative_w = derivative_w/quant\n",
    "  derivative_b = derivative_b/quant\n",
    "\n",
    "  return derivative_w,derivative_b"
   ]
  },
  {
   "cell_type": "code",
   "execution_count": 6,
   "id": "85c12c1c-7f13-4d65-b801-a8409767d7f1",
   "metadata": {},
   "outputs": [],
   "source": [
    "def normalize_data(x,y):\n",
    "    x_max = x.max()\n",
    "    y_max = y.max()\n",
    "\n",
    "    x = x/x_max\n",
    "    y = y/y_max\n",
    "\n",
    "    return x, y, x_max, y_max"
   ]
  },
  {
   "cell_type": "code",
   "execution_count": 13,
   "id": "3fb3bc72-3216-4285-b47a-04d95392085e",
   "metadata": {},
   "outputs": [],
   "source": [
    "def find_parameters(x,y, lr = 0.001, iterations = 1000):\n",
    "\n",
    "  w = 0\n",
    "  b = 0\n",
    "\n",
    "  current_cost = float('inf')\n",
    "\n",
    "  for i in range(iterations):\n",
    "\n",
    "    derivative_w,derivative_b = find_derivatives(x,y,w,b)\n",
    "\n",
    "    w = w - lr*derivative_w\n",
    "    b = b - lr*derivative_b\n",
    "\n",
    "    current_cost = cost(x,y,w,b)\n",
    "\n",
    "    if(i%1000 == 0):\n",
    "      print(\"Total iterations: \", i+1)\n",
    "      print(\"Total cost: \", current_cost)\n",
    "\n",
    "\n",
    "  return w,b"
   ]
  },
  {
   "cell_type": "code",
   "execution_count": 8,
   "id": "d492d621-bbf6-442d-94f4-acd029cbc7bb",
   "metadata": {},
   "outputs": [
    {
     "data": {
      "text/html": [
       "<div>\n",
       "<style scoped>\n",
       "    .dataframe tbody tr th:only-of-type {\n",
       "        vertical-align: middle;\n",
       "    }\n",
       "\n",
       "    .dataframe tbody tr th {\n",
       "        vertical-align: top;\n",
       "    }\n",
       "\n",
       "    .dataframe thead th {\n",
       "        text-align: right;\n",
       "    }\n",
       "</style>\n",
       "<table border=\"1\" class=\"dataframe\">\n",
       "  <thead>\n",
       "    <tr style=\"text-align: right;\">\n",
       "      <th></th>\n",
       "      <th>x</th>\n",
       "      <th>y</th>\n",
       "    </tr>\n",
       "  </thead>\n",
       "  <tbody>\n",
       "    <tr>\n",
       "      <th>0</th>\n",
       "      <td>24.0</td>\n",
       "      <td>21.549452</td>\n",
       "    </tr>\n",
       "    <tr>\n",
       "      <th>1</th>\n",
       "      <td>50.0</td>\n",
       "      <td>47.464463</td>\n",
       "    </tr>\n",
       "    <tr>\n",
       "      <th>2</th>\n",
       "      <td>15.0</td>\n",
       "      <td>17.218656</td>\n",
       "    </tr>\n",
       "    <tr>\n",
       "      <th>3</th>\n",
       "      <td>38.0</td>\n",
       "      <td>36.586398</td>\n",
       "    </tr>\n",
       "    <tr>\n",
       "      <th>4</th>\n",
       "      <td>87.0</td>\n",
       "      <td>87.288984</td>\n",
       "    </tr>\n",
       "    <tr>\n",
       "      <th>5</th>\n",
       "      <td>36.0</td>\n",
       "      <td>32.463875</td>\n",
       "    </tr>\n",
       "    <tr>\n",
       "      <th>6</th>\n",
       "      <td>12.0</td>\n",
       "      <td>10.780897</td>\n",
       "    </tr>\n",
       "    <tr>\n",
       "      <th>7</th>\n",
       "      <td>81.0</td>\n",
       "      <td>80.763399</td>\n",
       "    </tr>\n",
       "    <tr>\n",
       "      <th>8</th>\n",
       "      <td>25.0</td>\n",
       "      <td>24.612151</td>\n",
       "    </tr>\n",
       "    <tr>\n",
       "      <th>9</th>\n",
       "      <td>5.0</td>\n",
       "      <td>6.963319</td>\n",
       "    </tr>\n",
       "  </tbody>\n",
       "</table>\n",
       "</div>"
      ],
      "text/plain": [
       "      x          y\n",
       "0  24.0  21.549452\n",
       "1  50.0  47.464463\n",
       "2  15.0  17.218656\n",
       "3  38.0  36.586398\n",
       "4  87.0  87.288984\n",
       "5  36.0  32.463875\n",
       "6  12.0  10.780897\n",
       "7  81.0  80.763399\n",
       "8  25.0  24.612151\n",
       "9   5.0   6.963319"
      ]
     },
     "execution_count": 8,
     "metadata": {},
     "output_type": "execute_result"
    }
   ],
   "source": [
    "df = pd.read_csv(\"machineLearning/data_for_lr.csv\")\n",
    "df = df.dropna()\n",
    "df.head(10)\n"
   ]
  },
  {
   "cell_type": "code",
   "execution_count": 9,
   "id": "b65b006e-21a5-4130-855c-7083f0f1720d",
   "metadata": {},
   "outputs": [
    {
     "data": {
      "text/html": [
       "<div>\n",
       "<style scoped>\n",
       "    .dataframe tbody tr th:only-of-type {\n",
       "        vertical-align: middle;\n",
       "    }\n",
       "\n",
       "    .dataframe tbody tr th {\n",
       "        vertical-align: top;\n",
       "    }\n",
       "\n",
       "    .dataframe thead th {\n",
       "        text-align: right;\n",
       "    }\n",
       "</style>\n",
       "<table border=\"1\" class=\"dataframe\">\n",
       "  <thead>\n",
       "    <tr style=\"text-align: right;\">\n",
       "      <th></th>\n",
       "      <th>x</th>\n",
       "      <th>y</th>\n",
       "    </tr>\n",
       "  </thead>\n",
       "  <tbody>\n",
       "    <tr>\n",
       "      <th>count</th>\n",
       "      <td>699.000000</td>\n",
       "      <td>699.000000</td>\n",
       "    </tr>\n",
       "    <tr>\n",
       "      <th>mean</th>\n",
       "      <td>50.014306</td>\n",
       "      <td>49.939869</td>\n",
       "    </tr>\n",
       "    <tr>\n",
       "      <th>std</th>\n",
       "      <td>28.954560</td>\n",
       "      <td>29.109217</td>\n",
       "    </tr>\n",
       "    <tr>\n",
       "      <th>min</th>\n",
       "      <td>0.000000</td>\n",
       "      <td>-3.839981</td>\n",
       "    </tr>\n",
       "    <tr>\n",
       "      <th>25%</th>\n",
       "      <td>25.000000</td>\n",
       "      <td>24.929968</td>\n",
       "    </tr>\n",
       "    <tr>\n",
       "      <th>50%</th>\n",
       "      <td>49.000000</td>\n",
       "      <td>48.973020</td>\n",
       "    </tr>\n",
       "    <tr>\n",
       "      <th>75%</th>\n",
       "      <td>75.000000</td>\n",
       "      <td>74.929911</td>\n",
       "    </tr>\n",
       "    <tr>\n",
       "      <th>max</th>\n",
       "      <td>100.000000</td>\n",
       "      <td>108.871618</td>\n",
       "    </tr>\n",
       "  </tbody>\n",
       "</table>\n",
       "</div>"
      ],
      "text/plain": [
       "                x           y\n",
       "count  699.000000  699.000000\n",
       "mean    50.014306   49.939869\n",
       "std     28.954560   29.109217\n",
       "min      0.000000   -3.839981\n",
       "25%     25.000000   24.929968\n",
       "50%     49.000000   48.973020\n",
       "75%     75.000000   74.929911\n",
       "max    100.000000  108.871618"
      ]
     },
     "execution_count": 9,
     "metadata": {},
     "output_type": "execute_result"
    }
   ],
   "source": [
    "df.describe()"
   ]
  },
  {
   "cell_type": "code",
   "execution_count": 10,
   "id": "11afa275-a697-43c3-b4e4-05d69a012a41",
   "metadata": {},
   "outputs": [
    {
     "name": "stdout",
     "output_type": "stream",
     "text": [
      "X values: \n",
      "[24. 50. 15. 38. 87. 36. 12. 81. 25.  5.]\n",
      "Y values: \n",
      "[21.54945196 47.46446305 17.21865634 36.58639803 87.28898389 32.46387493\n",
      " 10.78089683 80.7633986  24.61215147  6.96331907]\n",
      "x normalized:  [0.24 0.5  0.15 0.38 0.87 0.36 0.12 0.81 0.25 0.05]\n",
      "x max value:  100.0\n",
      "y normalized:  [0.19793452 0.43596728 0.1581556  0.33605083 0.80176069 0.29818492\n",
      " 0.09902394 0.74182234 0.22606582 0.06395899]\n",
      "y max value:  108.8716183\n"
     ]
    }
   ],
   "source": [
    "x = df.iloc[:, 0].to_numpy()\n",
    "y = df.iloc[:, 1].to_numpy()\n",
    "\n",
    "print(\"X values: \")\n",
    "print(x[0:10])\n",
    "\n",
    "print(\"Y values: \")\n",
    "print(y[0:10])\n",
    "\n",
    "x,y,x_max,y_max = normalize_data(x,y)\n",
    "\n",
    "print(\"x normalized: \", x[0:10])\n",
    "print(\"x max value: \", x_max)\n",
    "print(\"y normalized: \", y[0:10])\n",
    "print(\"y max value: \", y_max)\n"
   ]
  },
  {
   "cell_type": "code",
   "execution_count": 11,
   "id": "7114a1ce-28fe-49cb-86dd-968e6eeb9d57",
   "metadata": {},
   "outputs": [
    {
     "data": {
      "image/png": "[encoded data removed]",
      "text/plain": [
       "<Figure size 640x480 with 1 Axes>"
      ]
     },
     "metadata": {},
     "output_type": "display_data"
    }
   ],
   "source": [
    "plt.scatter(x,y)\n",
    "plt.xlabel(\"X\")\n",
    "plt.ylabel(\"Y\")\n",
    "plt.show()"
   ]
  },
  {
   "cell_type": "code",
   "execution_count": 20,
   "id": "79ea8ce9-4c69-4d65-8787-50942f2afd1c",
   "metadata": {},
   "outputs": [
    {
     "name": "stdout",
     "output_type": "stream",
     "text": [
      "Total iterations:  1\n",
      "Total cost:  0.13787395550452505\n",
      "Total iterations:  1001\n",
      "Total cost:  0.0061149214940614295\n",
      "Total iterations:  2001\n",
      "Total cost:  0.001875091117129149\n",
      "Total iterations:  3001\n",
      "Total cost:  0.0007436918376147308\n",
      "Total iterations:  4001\n",
      "Total cost:  0.0004417777947937171\n",
      "Total iterations:  5001\n",
      "Total cost:  0.0003612119937516228\n",
      "Total iterations:  6001\n",
      "Total cost:  0.0003397129994123539\n",
      "Total iterations:  7001\n",
      "Total cost:  0.0003339759900160412\n",
      "Total iterations:  8001\n",
      "Total cost:  0.0003324450683229617\n",
      "Total iterations:  9001\n",
      "Total cost:  0.0003320365416728492\n",
      "w:  0.9181488554636857\n",
      "b:  -0.0004673783178250513\n"
     ]
    }
   ],
   "source": [
    "w,b = find_parameters(x,y, lr = 0.01, iterations = 10000)\n",
    "print(\"w: \", w)\n",
    "print(\"b: \", b)"
   ]
  },
  {
   "cell_type": "code",
   "execution_count": 21,
   "id": "80c4b72b-1d9c-4022-b142-4423dde3381b",
   "metadata": {},
   "outputs": [
    {
     "data": {
      "image/png": "[encoded data removed]",
      "text/plain": [
       "<Figure size 640x480 with 1 Axes>"
      ]
     },
     "metadata": {},
     "output_type": "display_data"
    }
   ],
   "source": [
    "plt.scatter(x,y)\n",
    "plt.plot(x,function(w,b,x), color =  \"red\")\n",
    "plt.xlabel(\"X\")\n",
    "plt.ylabel(\"Y\")\n",
    "plt.show()"
   ]
  },
  {
   "cell_type": "code",
   "execution_count": null,
   "id": "2da5dc12-6637-4d41-babc-6ede37065e8b",
   "metadata": {},
   "outputs": [],
   "source": []
  }
 ],
 "metadata": {
  "kernelspec": {
   "display_name": "Python 3 (ipykernel)",
   "language": "python",
   "name": "python3"
  },
  "language_info": {
   "codemirror_mode": {
    "name": "ipython",
    "version": 3
   },
   "file_extension": ".py",
   "mimetype": "text/x-python",
   "name": "python",
   "nbconvert_exporter": "python",
   "pygments_lexer": "ipython3",
   "version": "3.10.13"
  }
 },
 "nbformat": 4,
 "nbformat_minor": 5
}
